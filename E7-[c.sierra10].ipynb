{
 "cells": [
  {
   "cell_type": "markdown",
   "metadata": {},
   "source": [
    "# Exercise 7\n",
    "\n",
    "# Capital Bikeshare data"
   ]
  },
  {
   "cell_type": "markdown",
   "metadata": {},
   "source": [
    "## Introduction\n",
    "\n",
    "- Capital Bikeshare dataset from Kaggle: [data](https://github.com/justmarkham/DAT8/blob/master/data/bikeshare.csv), [data dictionary](https://www.kaggle.com/c/bike-sharing-demand/data)\n",
    "- Each observation represents the bikeshare rentals initiated during a given hour of a given day"
   ]
  },
  {
   "cell_type": "code",
   "execution_count": 1,
   "metadata": {},
   "outputs": [
    {
     "name": "stderr",
     "output_type": "stream",
     "text": [
      "C:\\Users\\krist\\Anaconda3\\lib\\site-packages\\sklearn\\cross_validation.py:41: DeprecationWarning: This module was deprecated in version 0.18 in favor of the model_selection module into which all the refactored classes and functions are moved. Also note that the interface of the new CV iterators are different from that of this module. This module will be removed in 0.20.\n",
      "  \"This module will be removed in 0.20.\", DeprecationWarning)\n"
     ]
    }
   ],
   "source": [
    "%matplotlib inline\n",
    "import pandas as pd\n",
    "import numpy as np\n",
    "from sklearn.cross_validation import cross_val_score\n",
    "from sklearn.linear_model import LinearRegression\n",
    "from sklearn.tree import DecisionTreeRegressor, export_graphviz\n",
    "import warnings\n",
    "warnings.filterwarnings('ignore')"
   ]
  },
  {
   "cell_type": "code",
   "execution_count": 3,
   "metadata": {},
   "outputs": [],
   "source": [
    "# read the data and set \"datetime\" as the index\n",
    "url = 'https://raw.githubusercontent.com/justmarkham/DAT8/master/data/bikeshare.csv'\n",
    "bikes = pd.read_csv(url, index_col='datetime', parse_dates=True)"
   ]
  },
  {
   "cell_type": "code",
   "execution_count": 4,
   "metadata": {},
   "outputs": [],
   "source": [
    "# \"count\" is a method, so it's best to rename that column\n",
    "bikes.rename(columns={'count':'total'}, inplace=True)"
   ]
  },
  {
   "cell_type": "code",
   "execution_count": 5,
   "metadata": {},
   "outputs": [],
   "source": [
    "# create \"hour\" as its own feature\n",
    "bikes['hour'] = bikes.index.hour"
   ]
  },
  {
   "cell_type": "code",
   "execution_count": 6,
   "metadata": {},
   "outputs": [
    {
     "data": {
      "text/html": [
       "<div>\n",
       "<style scoped>\n",
       "    .dataframe tbody tr th:only-of-type {\n",
       "        vertical-align: middle;\n",
       "    }\n",
       "\n",
       "    .dataframe tbody tr th {\n",
       "        vertical-align: top;\n",
       "    }\n",
       "\n",
       "    .dataframe thead th {\n",
       "        text-align: right;\n",
       "    }\n",
       "</style>\n",
       "<table border=\"1\" class=\"dataframe\">\n",
       "  <thead>\n",
       "    <tr style=\"text-align: right;\">\n",
       "      <th></th>\n",
       "      <th>season</th>\n",
       "      <th>holiday</th>\n",
       "      <th>workingday</th>\n",
       "      <th>weather</th>\n",
       "      <th>temp</th>\n",
       "      <th>atemp</th>\n",
       "      <th>humidity</th>\n",
       "      <th>windspeed</th>\n",
       "      <th>casual</th>\n",
       "      <th>registered</th>\n",
       "      <th>total</th>\n",
       "      <th>hour</th>\n",
       "    </tr>\n",
       "    <tr>\n",
       "      <th>datetime</th>\n",
       "      <th></th>\n",
       "      <th></th>\n",
       "      <th></th>\n",
       "      <th></th>\n",
       "      <th></th>\n",
       "      <th></th>\n",
       "      <th></th>\n",
       "      <th></th>\n",
       "      <th></th>\n",
       "      <th></th>\n",
       "      <th></th>\n",
       "      <th></th>\n",
       "    </tr>\n",
       "  </thead>\n",
       "  <tbody>\n",
       "    <tr>\n",
       "      <th>2011-01-01 00:00:00</th>\n",
       "      <td>1</td>\n",
       "      <td>0</td>\n",
       "      <td>0</td>\n",
       "      <td>1</td>\n",
       "      <td>9.84</td>\n",
       "      <td>14.395</td>\n",
       "      <td>81</td>\n",
       "      <td>0.0</td>\n",
       "      <td>3</td>\n",
       "      <td>13</td>\n",
       "      <td>16</td>\n",
       "      <td>0</td>\n",
       "    </tr>\n",
       "    <tr>\n",
       "      <th>2011-01-01 01:00:00</th>\n",
       "      <td>1</td>\n",
       "      <td>0</td>\n",
       "      <td>0</td>\n",
       "      <td>1</td>\n",
       "      <td>9.02</td>\n",
       "      <td>13.635</td>\n",
       "      <td>80</td>\n",
       "      <td>0.0</td>\n",
       "      <td>8</td>\n",
       "      <td>32</td>\n",
       "      <td>40</td>\n",
       "      <td>1</td>\n",
       "    </tr>\n",
       "    <tr>\n",
       "      <th>2011-01-01 02:00:00</th>\n",
       "      <td>1</td>\n",
       "      <td>0</td>\n",
       "      <td>0</td>\n",
       "      <td>1</td>\n",
       "      <td>9.02</td>\n",
       "      <td>13.635</td>\n",
       "      <td>80</td>\n",
       "      <td>0.0</td>\n",
       "      <td>5</td>\n",
       "      <td>27</td>\n",
       "      <td>32</td>\n",
       "      <td>2</td>\n",
       "    </tr>\n",
       "    <tr>\n",
       "      <th>2011-01-01 03:00:00</th>\n",
       "      <td>1</td>\n",
       "      <td>0</td>\n",
       "      <td>0</td>\n",
       "      <td>1</td>\n",
       "      <td>9.84</td>\n",
       "      <td>14.395</td>\n",
       "      <td>75</td>\n",
       "      <td>0.0</td>\n",
       "      <td>3</td>\n",
       "      <td>10</td>\n",
       "      <td>13</td>\n",
       "      <td>3</td>\n",
       "    </tr>\n",
       "    <tr>\n",
       "      <th>2011-01-01 04:00:00</th>\n",
       "      <td>1</td>\n",
       "      <td>0</td>\n",
       "      <td>0</td>\n",
       "      <td>1</td>\n",
       "      <td>9.84</td>\n",
       "      <td>14.395</td>\n",
       "      <td>75</td>\n",
       "      <td>0.0</td>\n",
       "      <td>0</td>\n",
       "      <td>1</td>\n",
       "      <td>1</td>\n",
       "      <td>4</td>\n",
       "    </tr>\n",
       "  </tbody>\n",
       "</table>\n",
       "</div>"
      ],
      "text/plain": [
       "                     season  holiday  workingday  weather  temp   atemp  \\\n",
       "datetime                                                                  \n",
       "2011-01-01 00:00:00       1        0           0        1  9.84  14.395   \n",
       "2011-01-01 01:00:00       1        0           0        1  9.02  13.635   \n",
       "2011-01-01 02:00:00       1        0           0        1  9.02  13.635   \n",
       "2011-01-01 03:00:00       1        0           0        1  9.84  14.395   \n",
       "2011-01-01 04:00:00       1        0           0        1  9.84  14.395   \n",
       "\n",
       "                     humidity  windspeed  casual  registered  total  hour  \n",
       "datetime                                                                   \n",
       "2011-01-01 00:00:00        81        0.0       3          13     16     0  \n",
       "2011-01-01 01:00:00        80        0.0       8          32     40     1  \n",
       "2011-01-01 02:00:00        80        0.0       5          27     32     2  \n",
       "2011-01-01 03:00:00        75        0.0       3          10     13     3  \n",
       "2011-01-01 04:00:00        75        0.0       0           1      1     4  "
      ]
     },
     "execution_count": 6,
     "metadata": {},
     "output_type": "execute_result"
    }
   ],
   "source": [
    "bikes.head()"
   ]
  },
  {
   "cell_type": "code",
   "execution_count": 7,
   "metadata": {},
   "outputs": [
    {
     "data": {
      "text/html": [
       "<div>\n",
       "<style scoped>\n",
       "    .dataframe tbody tr th:only-of-type {\n",
       "        vertical-align: middle;\n",
       "    }\n",
       "\n",
       "    .dataframe tbody tr th {\n",
       "        vertical-align: top;\n",
       "    }\n",
       "\n",
       "    .dataframe thead th {\n",
       "        text-align: right;\n",
       "    }\n",
       "</style>\n",
       "<table border=\"1\" class=\"dataframe\">\n",
       "  <thead>\n",
       "    <tr style=\"text-align: right;\">\n",
       "      <th></th>\n",
       "      <th>season</th>\n",
       "      <th>holiday</th>\n",
       "      <th>workingday</th>\n",
       "      <th>weather</th>\n",
       "      <th>temp</th>\n",
       "      <th>atemp</th>\n",
       "      <th>humidity</th>\n",
       "      <th>windspeed</th>\n",
       "      <th>casual</th>\n",
       "      <th>registered</th>\n",
       "      <th>total</th>\n",
       "      <th>hour</th>\n",
       "    </tr>\n",
       "    <tr>\n",
       "      <th>datetime</th>\n",
       "      <th></th>\n",
       "      <th></th>\n",
       "      <th></th>\n",
       "      <th></th>\n",
       "      <th></th>\n",
       "      <th></th>\n",
       "      <th></th>\n",
       "      <th></th>\n",
       "      <th></th>\n",
       "      <th></th>\n",
       "      <th></th>\n",
       "      <th></th>\n",
       "    </tr>\n",
       "  </thead>\n",
       "  <tbody>\n",
       "    <tr>\n",
       "      <th>2012-12-19 19:00:00</th>\n",
       "      <td>4</td>\n",
       "      <td>0</td>\n",
       "      <td>1</td>\n",
       "      <td>1</td>\n",
       "      <td>15.58</td>\n",
       "      <td>19.695</td>\n",
       "      <td>50</td>\n",
       "      <td>26.0027</td>\n",
       "      <td>7</td>\n",
       "      <td>329</td>\n",
       "      <td>336</td>\n",
       "      <td>19</td>\n",
       "    </tr>\n",
       "    <tr>\n",
       "      <th>2012-12-19 20:00:00</th>\n",
       "      <td>4</td>\n",
       "      <td>0</td>\n",
       "      <td>1</td>\n",
       "      <td>1</td>\n",
       "      <td>14.76</td>\n",
       "      <td>17.425</td>\n",
       "      <td>57</td>\n",
       "      <td>15.0013</td>\n",
       "      <td>10</td>\n",
       "      <td>231</td>\n",
       "      <td>241</td>\n",
       "      <td>20</td>\n",
       "    </tr>\n",
       "    <tr>\n",
       "      <th>2012-12-19 21:00:00</th>\n",
       "      <td>4</td>\n",
       "      <td>0</td>\n",
       "      <td>1</td>\n",
       "      <td>1</td>\n",
       "      <td>13.94</td>\n",
       "      <td>15.910</td>\n",
       "      <td>61</td>\n",
       "      <td>15.0013</td>\n",
       "      <td>4</td>\n",
       "      <td>164</td>\n",
       "      <td>168</td>\n",
       "      <td>21</td>\n",
       "    </tr>\n",
       "    <tr>\n",
       "      <th>2012-12-19 22:00:00</th>\n",
       "      <td>4</td>\n",
       "      <td>0</td>\n",
       "      <td>1</td>\n",
       "      <td>1</td>\n",
       "      <td>13.94</td>\n",
       "      <td>17.425</td>\n",
       "      <td>61</td>\n",
       "      <td>6.0032</td>\n",
       "      <td>12</td>\n",
       "      <td>117</td>\n",
       "      <td>129</td>\n",
       "      <td>22</td>\n",
       "    </tr>\n",
       "    <tr>\n",
       "      <th>2012-12-19 23:00:00</th>\n",
       "      <td>4</td>\n",
       "      <td>0</td>\n",
       "      <td>1</td>\n",
       "      <td>1</td>\n",
       "      <td>13.12</td>\n",
       "      <td>16.665</td>\n",
       "      <td>66</td>\n",
       "      <td>8.9981</td>\n",
       "      <td>4</td>\n",
       "      <td>84</td>\n",
       "      <td>88</td>\n",
       "      <td>23</td>\n",
       "    </tr>\n",
       "  </tbody>\n",
       "</table>\n",
       "</div>"
      ],
      "text/plain": [
       "                     season  holiday  workingday  weather   temp   atemp  \\\n",
       "datetime                                                                   \n",
       "2012-12-19 19:00:00       4        0           1        1  15.58  19.695   \n",
       "2012-12-19 20:00:00       4        0           1        1  14.76  17.425   \n",
       "2012-12-19 21:00:00       4        0           1        1  13.94  15.910   \n",
       "2012-12-19 22:00:00       4        0           1        1  13.94  17.425   \n",
       "2012-12-19 23:00:00       4        0           1        1  13.12  16.665   \n",
       "\n",
       "                     humidity  windspeed  casual  registered  total  hour  \n",
       "datetime                                                                   \n",
       "2012-12-19 19:00:00        50    26.0027       7         329    336    19  \n",
       "2012-12-19 20:00:00        57    15.0013      10         231    241    20  \n",
       "2012-12-19 21:00:00        61    15.0013       4         164    168    21  \n",
       "2012-12-19 22:00:00        61     6.0032      12         117    129    22  \n",
       "2012-12-19 23:00:00        66     8.9981       4          84     88    23  "
      ]
     },
     "execution_count": 7,
     "metadata": {},
     "output_type": "execute_result"
    }
   ],
   "source": [
    "bikes.tail()"
   ]
  },
  {
   "cell_type": "markdown",
   "metadata": {},
   "source": [
    "- **hour** ranges from 0 (midnight) through 23 (11pm)\n",
    "- **workingday** is either 0 (weekend or holiday) or 1 (non-holiday weekday)"
   ]
  },
  {
   "cell_type": "markdown",
   "metadata": {},
   "source": [
    "# Exercise 7.1\n",
    "\n",
    "Run these two `groupby` statements and figure out what they tell you about the data."
   ]
  },
  {
   "cell_type": "code",
   "execution_count": 8,
   "metadata": {},
   "outputs": [
    {
     "data": {
      "text/plain": [
       "workingday\n",
       "0    188.506621\n",
       "1    193.011873\n",
       "Name: total, dtype: float64"
      ]
     },
     "execution_count": 8,
     "metadata": {},
     "output_type": "execute_result"
    }
   ],
   "source": [
    "# mean rentals for each value of \"workingday\"\n",
    "bikes.groupby('workingday').total.mean()"
   ]
  },
  {
   "cell_type": "markdown",
   "metadata": {},
   "source": [
    "Hay una diferencia mínima entre el promedio de alquiler de bicicletas en un día hábil y un día no hábil."
   ]
  },
  {
   "cell_type": "code",
   "execution_count": 9,
   "metadata": {},
   "outputs": [
    {
     "data": {
      "text/plain": [
       "hour\n",
       "0      55.138462\n",
       "1      33.859031\n",
       "2      22.899554\n",
       "3      11.757506\n",
       "4       6.407240\n",
       "5      19.767699\n",
       "6      76.259341\n",
       "7     213.116484\n",
       "8     362.769231\n",
       "9     221.780220\n",
       "10    175.092308\n",
       "11    210.674725\n",
       "12    256.508772\n",
       "13    257.787281\n",
       "14    243.442982\n",
       "15    254.298246\n",
       "16    316.372807\n",
       "17    468.765351\n",
       "18    430.859649\n",
       "19    315.278509\n",
       "20    228.517544\n",
       "21    173.370614\n",
       "22    133.576754\n",
       "23     89.508772\n",
       "Name: total, dtype: float64"
      ]
     },
     "execution_count": 9,
     "metadata": {},
     "output_type": "execute_result"
    }
   ],
   "source": [
    "# mean rentals for each value of \"hour\"\n",
    "bikes.groupby('hour').total.mean()"
   ]
  },
  {
   "cell_type": "markdown",
   "metadata": {},
   "source": [
    "La franja con mayor concentración está comprendida entre 5 y 6 de la tarde. Sin embargo a las 7 de la mañana se presenta un cambio en la tendencia aumentando fuertemente el promedio de alquileres de bicicleta. "
   ]
  },
  {
   "cell_type": "markdown",
   "metadata": {},
   "source": [
    "# Exercise 7.2\n",
    "\n",
    "Run this plotting code, and make sure you understand the output. Then, separate this plot into two separate plots conditioned on \"workingday\". (In other words, one plot should display the hourly trend for \"workingday=0\", and the other should display the hourly trend for \"workingday=1\".)"
   ]
  },
  {
   "cell_type": "code",
   "execution_count": null,
   "metadata": {},
   "outputs": [],
   "source": [
    "# mean rentals for each value of \"hour\"\n",
    "bikes.groupby('hour').total.mean().plot()"
   ]
  },
  {
   "cell_type": "markdown",
   "metadata": {},
   "source": [
    "Plot for workingday == 0 and workingday == 1"
   ]
  },
  {
   "cell_type": "code",
   "execution_count": null,
   "metadata": {},
   "outputs": [],
   "source": [
    "# hourly rental trend for \"workingday=0\"\n",
    "bikes[bikes.workingday==0].groupby('hour').total.mean().plot()"
   ]
  },
  {
   "cell_type": "code",
   "execution_count": null,
   "metadata": {},
   "outputs": [],
   "source": [
    "# hourly rental trend for \"workingday=1\"\n",
    "bikes[bikes.workingday==1].groupby('hour').total.mean().plot()"
   ]
  },
  {
   "cell_type": "code",
   "execution_count": null,
   "metadata": {},
   "outputs": [],
   "source": [
    "# combine the two plots\n",
    "bikes.groupby(['hour', 'workingday']).total.mean().unstack().plot()"
   ]
  },
  {
   "cell_type": "markdown",
   "metadata": {},
   "source": [
    "Con estas gráficas se puede concluir que los picos observados en los datos están dados por los patrones de comportamiento de los usuarios en los días laborales. Mientras que en los días no hábiles la concentración de uso de bicicleta por alquiler se da entre medio día y la primera parte de la tarde. Con esto se podría concluir que la bicicleta es utilizada entre semana para fines de transporte, mientras que los fines de semana para fines de entretenimiento o deporte."
   ]
  },
  {
   "cell_type": "markdown",
   "metadata": {},
   "source": [
    "Write about your findings"
   ]
  },
  {
   "cell_type": "markdown",
   "metadata": {},
   "source": [
    "# Exercise 7.3\n",
    "\n",
    "Fit a linear regression model to the entire dataset, using \"total\" as the response and \"hour\" and \"workingday\" as the only features. Then, print the coefficients and interpret them. What are the limitations of linear regression in this instance?"
   ]
  },
  {
   "cell_type": "code",
   "execution_count": null,
   "metadata": {},
   "outputs": [],
   "source": [
    "linreg = LinearRegression(fit_intercept = False)\n",
    "y =  bikes[['total']]\n",
    "X = bikes[['hour','workingday']]\n",
    "\n",
    "from sklearn.model_selection import train_test_split  \n",
    "from sklearn import preprocessing\n",
    "\n",
    "X_train, X_test, y_train, y_test = train_test_split(X, y, test_size = 0.20, random_state = 1)  \n",
    "\n",
    "linreg.fit(X_train, y_train)\n",
    "y_pred = linreg.predict(X_test)\n",
    "print(linreg.coef_)\n",
    "\n",
    "from sklearn import metrics\n",
    "print('RMSE:', np.sqrt(metrics.mean_squared_error(y_test, y_pred)))\n"
   ]
  },
  {
   "cell_type": "markdown",
   "metadata": {},
   "source": [
    "En general, con base en los coeficientes se puede coonlcuir que un aumento en una hora implica un aumento promedio de 13 bicicletas alquiladas y si el día es hábil en promedio hay 39 bicicletas más alquiladas. Con estos resultados se puede concluir que no existe una relación lineal entre las horas y la cantidad de bicicletas, por lo que los coeficientes llevan a hacer conclusiones erradas sobre los datos. Dado esto, no es recomendable utilizar el modelo de regresión lineal. "
   ]
  },
  {
   "cell_type": "markdown",
   "metadata": {},
   "source": [
    "# Exercice 7.4\n",
    "\n",
    "Create a Decision Tree to forecast \"total\" by manually iterating over the features \"hour\" and \"workingday\". The algorithm must at least have 6 end nodes."
   ]
  },
  {
   "cell_type": "code",
   "execution_count": null,
   "metadata": {},
   "outputs": [],
   "source": [
    "for hour in range(0, 23):\n",
    "    bikes['pred'] = bikes.loc[bikes.hour<hour, 'total'].mean()\n",
    "    bikes.loc[bikes.hour>=hour, 'pred'] = bikes.loc[bikes.hour>=hour, 'total'].mean()\n",
    "\n",
    "    print(hour,(((bikes['total'] - bikes['pred'])**2).mean()) ** 0.5)\n"
   ]
  },
  {
   "cell_type": "code",
   "execution_count": null,
   "metadata": {},
   "outputs": [],
   "source": [
    "for day in range(0, 2):\n",
    "    bikes['pred'] = bikes.loc[bikes.workingday<day, 'total'].mean()\n",
    "    bikes.loc[bikes.workingday>=day, 'pred'] = bikes.loc[bikes.workingday>=day, 'total'].mean()\n",
    "\n",
    "    print(hour,(((bikes['total'] - bikes['pred'])**2).mean()) ** 0.5)"
   ]
  },
  {
   "cell_type": "markdown",
   "metadata": {},
   "source": [
    "Al evaluar el error en por ambas variables, se observa que el menor error está dado en la hora, específicamente en la hora 7. Luego, la primera división se hace sobre la variable 'hour'."
   ]
  },
  {
   "cell_type": "code",
   "execution_count": null,
   "metadata": {},
   "outputs": [],
   "source": [
    "hour = 7\n",
    "bikes['pred'] = bikes.loc[bikes.hour<hour, 'pred'].mean()\n",
    "bikes.loc[bikes.hour>=hour, 'pred'] = bikes.loc[bikes.hour>=hour, 'total'].mean()\n",
    "bikes_izq = bikes.loc[bikes.hour<7].copy()\n",
    "bikes_der = bikes.loc[bikes.hour>=7].copy()"
   ]
  },
  {
   "cell_type": "markdown",
   "metadata": {},
   "source": [
    "Se definen las funciones para evaluación de los errores como criterio de selección."
   ]
  },
  {
   "cell_type": "code",
   "execution_count": null,
   "metadata": {},
   "outputs": [],
   "source": [
    "def error_dia(bikes, day):\n",
    "    bikes['pred'] = bikes.loc[bikes.workingday<day, 'total'].mean()\n",
    "    bikes.loc[bikes.workingday>=day, 'pred'] = bikes.loc[bikes.workingday>=day, 'total'].mean()\n",
    "    print ((((bikes['total'] - bikes['pred'])**2).mean()) ** 0.5)\n",
    "\n",
    "def error_hora(bikes, hour):\n",
    "    bikes['pred'] = bikes.loc[bikes.hour<hour, 'total'].mean()\n",
    "    bikes.loc[bikes.hour>=hour, 'pred'] = bikes.loc[bikes.hour>=hour, 'total'].mean()\n",
    "    print ((((bikes['total'] - bikes['pred'])**2).mean()) ** 0.5)\n",
    "    "
   ]
  },
  {
   "cell_type": "markdown",
   "metadata": {},
   "source": [
    "La primera rama a ser evaluada es la izquierda, esto es, cuando la hora es menor a 7."
   ]
  },
  {
   "cell_type": "code",
   "execution_count": null,
   "metadata": {},
   "outputs": [],
   "source": [
    "for hour in bikes_izq.hour.unique():\n",
    "    print('Hora ', hour)\n",
    "    error_hora(bikes_izq, hour)"
   ]
  },
  {
   "cell_type": "code",
   "execution_count": null,
   "metadata": {},
   "outputs": [],
   "source": [
    "for day in bikes_izq.workingday.unique():\n",
    "    error_dia(bikes_izq, day)"
   ]
  },
  {
   "cell_type": "markdown",
   "metadata": {},
   "source": [
    "Nuevamente el menor error se encuentra en las horas, para la hora 6. Por lo anterior se realizan nuevamente dos ramificaciones."
   ]
  },
  {
   "cell_type": "code",
   "execution_count": null,
   "metadata": {},
   "outputs": [],
   "source": [
    "bikes_izq_izq = bikes_izq.loc[bikes_izq.hour<6].copy()\n",
    "bikes_izq_der= bikes_izq.loc[bikes_izq.hour>=6].copy()\n",
    "\n",
    "for day in bikes_izq_izq.workingday.unique():\n",
    "    error_dia(bikes_izq_izq, day)"
   ]
  },
  {
   "cell_type": "code",
   "execution_count": null,
   "metadata": {},
   "outputs": [],
   "source": [
    "for hora in bikes_izq_izq.hour.unique():\n",
    "    print('Hora ',hora)\n",
    "    error_hora(bikes_izq_izq, hora)"
   ]
  },
  {
   "cell_type": "markdown",
   "metadata": {},
   "source": [
    "Al evaluar las funciones de error para amabas variables, nuevamente se define dividir los datos por hora en este caso la hora 2."
   ]
  },
  {
   "cell_type": "code",
   "execution_count": null,
   "metadata": {},
   "outputs": [],
   "source": [
    "bikes_izq_izq_izq = bikes_izq_izq.loc[bikes_izq_izq.hour<2].copy()\n",
    "bikes_izq_izq_der= bikes_izq_izq.loc[bikes_izq_izq.hour>=2].copy()\n",
    "\n",
    "for day in bikes_izq_izq_izq.workingday.unique():\n",
    "    print('Día ', day)\n",
    "    error_dia(bikes_izq_izq_izq, day)\n",
    "    \n",
    "for hora in bikes_izq_izq_izq.hour.unique():\n",
    "    print('Hora ',hora)\n",
    "    error_hora(bikes_izq_izq_izq, hora)"
   ]
  },
  {
   "cell_type": "markdown",
   "metadata": {},
   "source": [
    "Ahora, para los datos de menor con hor menor a 2, se divide por la variable workingday puesto que es la que arroja menor valor de error. "
   ]
  },
  {
   "cell_type": "code",
   "execution_count": null,
   "metadata": {},
   "outputs": [],
   "source": [
    "bikes_izq_izq_izq_izq = bikes_izq_izq_izq.loc[bikes_izq_izq_izq.workingday==0].copy()\n",
    "bikes_izq_izq_izq_der = bikes_izq_izq_izq.loc[bikes_izq_izq_izq.workingday==1].copy()\n",
    "    \n",
    "for hora in bikes_izq_izq_izq_izq.hour.unique():\n",
    "    print('Hora ',hora)\n",
    "    error_hora(bikes_izq_izq_izq_izq, hora)\n"
   ]
  },
  {
   "cell_type": "markdown",
   "metadata": {},
   "source": [
    "Con este paso finaliza esta rama pues ya no es posible dividir más nodos. Para el workingday 0 se llega a hora 0 y 1. "
   ]
  },
  {
   "cell_type": "code",
   "execution_count": null,
   "metadata": {},
   "outputs": [],
   "source": [
    "for hora in bikes_izq_izq_izq_der.hour.unique():\n",
    "    print('Hora ',hora)\n",
    "    error_hora(bikes_izq_izq_izq_der, hora)"
   ]
  },
  {
   "cell_type": "markdown",
   "metadata": {},
   "source": [
    "En el caso de workingday igual a 1, se divide también por hora llegando a hora 0 y 1 como las hojas pues no es posible continuar la ramificación. \n",
    "\n",
    "Ahora, continúa el proceso para el nodo en el que las horas con mayor o igual 2."
   ]
  },
  {
   "cell_type": "code",
   "execution_count": null,
   "metadata": {},
   "outputs": [],
   "source": [
    "for day in bikes_izq_izq_der.workingday.unique():\n",
    "    print('Día ', day)\n",
    "    error_dia(bikes_izq_izq_der, day)\n",
    "    \n",
    "for hora in bikes_izq_izq_der.hour.unique():\n",
    "    print('Hora ',hora)\n",
    "    error_hora(bikes_izq_izq_der, hora)"
   ]
  },
  {
   "cell_type": "markdown",
   "metadata": {},
   "source": [
    "De acuerdo con los resultados de los errores, se procede a dividir el nodo por el día."
   ]
  },
  {
   "cell_type": "code",
   "execution_count": null,
   "metadata": {},
   "outputs": [],
   "source": [
    "bikes_izq_izq_der_izq = bikes_izq_izq_der.loc[bikes_izq_izq_der.workingday==0].copy()\n",
    "bikes_izq_izq_der_der = bikes_izq_izq_der.loc[bikes_izq_izq_der.workingday==1].copy()\n",
    "\n",
    "for hora in bikes_izq_izq_der_izq.hour.unique():\n",
    "    print('Hora ',hora)\n",
    "    error_hora(bikes_izq_izq_der_izq, hora)"
   ]
  },
  {
   "cell_type": "markdown",
   "metadata": {},
   "source": [
    "Dado que el día ya está establecido, solamente se evalúa el error de las horas, arrojando que se debe dividir por la hora 3. Esto arroja un nodo final que es el caso de las horas menores a 3 pues queda comprendido solamente la hora 2. Mientras que por las horas mayores a 3 se realiza nuevamente la división. "
   ]
  },
  {
   "cell_type": "code",
   "execution_count": null,
   "metadata": {},
   "outputs": [],
   "source": [
    "bikes_izq_izq_der_izq_izq = bikes_izq_izq_der_izq.loc[bikes_izq_izq_der_izq.hour<3].copy()\n",
    "bikes_izq_izq_der_izq_der = bikes_izq_izq_der_izq.loc[bikes_izq_izq_der_izq.hour>=3].copy()\n",
    "    \n",
    "for hora in bikes_izq_izq_der_izq_der.hour.unique():\n",
    "    print('Hora ',hora)\n",
    "    error_hora(bikes_izq_izq_der_izq_der, hora)\n"
   ]
  },
  {
   "cell_type": "markdown",
   "metadata": {},
   "source": [
    "Los nuevos nodos se construyen con base en la hora 4, arrojando un nodo final que es la hora 3 y un nodo con las horas mayores a 4, allí se decide detener el proceso."
   ]
  },
  {
   "cell_type": "code",
   "execution_count": null,
   "metadata": {},
   "outputs": [],
   "source": [
    "bikes_izq_izq_der_izq_der_izq = bikes_izq_izq_der_izq_der.loc[bikes_izq_izq_der_izq_der.hour<4].copy()\n",
    "bikes_izq_izq_der_izq_der_der = bikes_izq_izq_der_izq_der.loc[bikes_izq_izq_der_izq_der.hour>=4].copy()"
   ]
  },
  {
   "cell_type": "markdown",
   "metadata": {},
   "source": [
    "Ahora se evalúa el nodo en el que el workingday es igual a 1."
   ]
  },
  {
   "cell_type": "code",
   "execution_count": null,
   "metadata": {},
   "outputs": [],
   "source": [
    "for hora in bikes_izq_izq_der_der.hour.unique():\n",
    "    print('Hora ',hora)\n",
    "    error_hora(bikes_izq_izq_der_der, hora)"
   ]
  },
  {
   "cell_type": "markdown",
   "metadata": {},
   "source": [
    "Como el día ya está establecido, solamente se evalúa la hora, lo que arroja que se debe hacer una división en la hora 5."
   ]
  },
  {
   "cell_type": "code",
   "execution_count": null,
   "metadata": {},
   "outputs": [],
   "source": [
    "bikes_izq_izq_der_der_izq = bikes_izq_izq_der_der.loc[bikes_izq_izq_der_der.hour<5].copy()\n",
    "bikes_izq_izq_der_der_der = bikes_izq_izq_der_der.loc[bikes_izq_izq_der_der.hour>=5].copy()\n",
    "\n",
    "for hora in bikes_izq_izq_der_der_izq.hour.unique():\n",
    "    print('Hora ',hora)\n",
    "    error_hora(bikes_izq_izq_der_der_izq, hora)"
   ]
  },
  {
   "cell_type": "markdown",
   "metadata": {},
   "source": [
    "En el caso de los menores a cinco, se realiza una división de los que la hora es menor a 3 o mayor o igual a 4. Aquí se decide terminar este nodo."
   ]
  },
  {
   "cell_type": "code",
   "execution_count": null,
   "metadata": {},
   "outputs": [],
   "source": [
    "bikes_izq_izq_der_der_izq_izq = bikes_izq_izq_der_der_izq.loc[bikes_izq_izq_der_der_izq.hour<3].copy()\n",
    "bikes_izq_izq_der_der_izq_der = bikes_izq_izq_der_der_izq.loc[bikes_izq_izq_der_der_izq.hour>=3].copy()"
   ]
  },
  {
   "cell_type": "markdown",
   "metadata": {},
   "source": [
    "Para el nodo en el que la hora es mayor o igual a 5 no se continúa la rafimifación pues es un nodo final. Luego, continúa el proceso con el nodo de las horas mayores a 6. En este caso solo está comprendida una hora, por lo que se divide, si es el caso, por workingday."
   ]
  },
  {
   "cell_type": "code",
   "execution_count": null,
   "metadata": {},
   "outputs": [],
   "source": [
    "bikes_izq_der= bikes_izq.loc[bikes_izq.hour>=6].copy()\n",
    "\n",
    "for day in bikes_izq_der.workingday.unique():\n",
    "    print('Día ', day)\n",
    "    error_dia(bikes_izq_der, day)\n",
    "    \n",
    "bikes_izq_der_izq= bikes_izq_der.loc[bikes_izq_der.workingday==0].copy()\n",
    "bikes_izq_der_der= bikes_izq_der.loc[bikes_izq_der.workingday==1].copy()"
   ]
  },
  {
   "cell_type": "markdown",
   "metadata": {},
   "source": [
    "Aquí se inicia el proceso para la rama derecha, en la que las horas eran mayor o igual a 7."
   ]
  },
  {
   "cell_type": "code",
   "execution_count": null,
   "metadata": {},
   "outputs": [],
   "source": [
    "for day in bikes_der.workingday.unique():\n",
    "    print('Día ', day)\n",
    "    error_dia(bikes_der, day)\n",
    "    \n",
    "for hora in bikes_der.hour.unique():\n",
    "    print('Hora ',hora)\n",
    "    error_hora(bikes_der, hora)"
   ]
  },
  {
   "cell_type": "markdown",
   "metadata": {},
   "source": [
    "La primera división se realiza por la hora 21."
   ]
  },
  {
   "cell_type": "code",
   "execution_count": null,
   "metadata": {},
   "outputs": [],
   "source": [
    "bikes_der_izq= bikes_der.loc[bikes_der.hour<21].copy()\n",
    "bikes_der_der= bikes_der.loc[bikes_der.hour>=21].copy()\n",
    "\n",
    "for day in bikes_der_izq.workingday.unique():\n",
    "    print('Día ', day)\n",
    "    error_dia(bikes_der_izq, day)\n",
    "    \n",
    "for hora in bikes_der_izq.hour.unique():\n",
    "    print('Hora ',hora)\n",
    "    error_hora(bikes_der_izq, hora)"
   ]
  },
  {
   "cell_type": "markdown",
   "metadata": {},
   "source": [
    "Nuevamente se debe realizar una división por hora, en este caso por la hora 16."
   ]
  },
  {
   "cell_type": "code",
   "execution_count": null,
   "metadata": {},
   "outputs": [],
   "source": [
    "bikes_der_izq_izq= bikes_der_izq.loc[bikes_der_izq.hour<16].copy()\n",
    "bikes_der_izq_der= bikes_der_izq.loc[bikes_der_izq.hour>=16].copy()\n",
    "\n",
    "for day in bikes_der_izq_izq.workingday.unique():\n",
    "    print('Día ', day)\n",
    "    error_dia(bikes_der_izq_izq, day)\n",
    "    \n",
    "for hora in bikes_der_izq_izq.hour.unique():\n",
    "    print('Hora ',hora)\n",
    "    error_hora(bikes_der_izq_izq, hora)\n",
    "    "
   ]
  },
  {
   "cell_type": "markdown",
   "metadata": {},
   "source": [
    "Ahora la división se realiza para la hora 9 pues genera el menor error."
   ]
  },
  {
   "cell_type": "code",
   "execution_count": null,
   "metadata": {},
   "outputs": [],
   "source": [
    "bikes_der_izq_izq_izq= bikes_der_izq_izq.loc[bikes_der_izq_izq.hour<9].copy()\n",
    "bikes_der_izq_izq_der= bikes_der_izq_izq.loc[bikes_der_izq_izq.hour>=9].copy()\n",
    "\n",
    "for day in bikes_der_izq_izq_izq.workingday.unique():\n",
    "    print('Día ', day)\n",
    "    error_dia(bikes_der_izq_izq_izq, day)\n",
    "    \n",
    "for hora in bikes_der_izq_izq_izq.hour.unique():\n",
    "    print('Hora ',hora)\n",
    "    error_hora(bikes_der_izq_izq_izq, hora)\n",
    "    "
   ]
  },
  {
   "cell_type": "markdown",
   "metadata": {},
   "source": [
    "La división se realiza ahora por día, y se decide finalizar el proceso con este nodo."
   ]
  },
  {
   "cell_type": "code",
   "execution_count": null,
   "metadata": {},
   "outputs": [],
   "source": [
    "bikes_der_izq_izq_izq_izq= bikes_der_izq_izq_izq.loc[bikes_der_izq_izq_izq.workingday==0].copy()\n",
    "bikes_der_izq_izq_izq_der= bikes_der_izq_izq_izq.loc[bikes_der_izq_izq_izq.workingday==1].copy()"
   ]
  },
  {
   "cell_type": "markdown",
   "metadata": {},
   "source": [
    "Se evalúa ahora para las horas mayores a 9, cuál debería ser la siguiente división."
   ]
  },
  {
   "cell_type": "code",
   "execution_count": null,
   "metadata": {},
   "outputs": [],
   "source": [
    "for day in bikes_der_izq_izq_der.workingday.unique():\n",
    "    print('Día ', day)\n",
    "    error_dia(bikes_der_izq_izq_der, day)\n",
    "    \n",
    "for hora in bikes_der_izq_izq_der.hour.unique():\n",
    "    print('Hora ',hora)\n",
    "    error_hora(bikes_der_izq_izq_der, hora)\n",
    "    "
   ]
  },
  {
   "cell_type": "markdown",
   "metadata": {},
   "source": [
    "Se observa nuevamente que la división es por día, y aquí se decide detener este proceso."
   ]
  },
  {
   "cell_type": "code",
   "execution_count": null,
   "metadata": {},
   "outputs": [],
   "source": [
    "bikes_der_izq_izq_der_izq= bikes_der_izq_izq_der.loc[bikes_der_izq_izq_der.workingday==0].copy()\n",
    "bikes_der_izq_izq_der_der= bikes_der_izq_izq_der.loc[bikes_der_izq_izq_der.workingday==1].copy()"
   ]
  },
  {
   "cell_type": "markdown",
   "metadata": {},
   "source": [
    "Regresando al nodo de las horas mayores a 16 se evalúa con ambos criterios para continuar la ramificación."
   ]
  },
  {
   "cell_type": "code",
   "execution_count": null,
   "metadata": {},
   "outputs": [],
   "source": [
    "for day in bikes_der_izq_der.workingday.unique():\n",
    "    print('Día ', day)\n",
    "    error_dia(bikes_der_izq_der, day)\n",
    "    \n",
    "for hora in bikes_der_izq_der.hour.unique():\n",
    "    print('Hora ',hora)\n",
    "    error_hora(bikes_der_izq_der, hora)"
   ]
  },
  {
   "cell_type": "markdown",
   "metadata": {},
   "source": [
    "Nuevamente se debe dividir por hora, en este caso por la hora 19."
   ]
  },
  {
   "cell_type": "code",
   "execution_count": null,
   "metadata": {},
   "outputs": [],
   "source": [
    "bikes_der_izq_der_izq= bikes_der_izq_der.loc[bikes_der_izq_der.hour<19].copy()\n",
    "bikes_der_izq_der_der= bikes_der_izq_der.loc[bikes_der_izq_der.hour>=19].copy()\n",
    "\n",
    "for day in bikes_der_izq_der_izq.workingday.unique():\n",
    "    print('Día ', day)\n",
    "    error_dia(bikes_der_izq_der_izq, day)\n",
    "    \n",
    "for hora in bikes_der_izq_der_izq.hour.unique():\n",
    "    print('Hora ',hora)\n",
    "    error_hora(bikes_der_izq_der_izq, hora)"
   ]
  },
  {
   "cell_type": "markdown",
   "metadata": {},
   "source": [
    "La división se realiza otra vez por hora, en este caso la hora 17, y con ello se decide detener el proceso."
   ]
  },
  {
   "cell_type": "code",
   "execution_count": null,
   "metadata": {},
   "outputs": [],
   "source": [
    "bikes_der_izq_der_izq_izq= bikes_der_izq_der_izq.loc[bikes_der_izq_der_izq.hour<17].copy()\n",
    "bikes_der_izq_der_izq_der= bikes_der_izq_der_izq.loc[bikes_der_izq_der_izq.hour>=17].copy()"
   ]
  },
  {
   "cell_type": "markdown",
   "metadata": {},
   "source": [
    "Se regresa al nodo en el que la hora es mayor o igula a 19."
   ]
  },
  {
   "cell_type": "code",
   "execution_count": null,
   "metadata": {},
   "outputs": [],
   "source": [
    "for day in bikes_der_izq_der_der.workingday.unique():\n",
    "    print('Día ', day)\n",
    "    error_dia(bikes_der_izq_der_der, day)\n",
    "    \n",
    "for hora in bikes_der_izq_der_der.hour.unique():\n",
    "    print('Hora ',hora)\n",
    "    error_hora(bikes_der_izq_der_der, hora)"
   ]
  },
  {
   "cell_type": "markdown",
   "metadata": {},
   "source": [
    "Aquí la división se hace por hora nuevamente y se da por finalizado el proceso."
   ]
  },
  {
   "cell_type": "code",
   "execution_count": null,
   "metadata": {},
   "outputs": [],
   "source": [
    "bikes_der_izq_der_der_izq= bikes_der_izq_der_der.loc[bikes_der_izq_der_der.hour<20].copy()\n",
    "bikes_der_izq_der_der_der= bikes_der_izq_der_der.loc[bikes_der_izq_der_der.hour>=20].copy()"
   ]
  },
  {
   "cell_type": "markdown",
   "metadata": {},
   "source": [
    "Regresando al nodo en el que las horas son mayores a 21 se analiza los errores para continuar la ramificación."
   ]
  },
  {
   "cell_type": "code",
   "execution_count": null,
   "metadata": {},
   "outputs": [],
   "source": [
    "#bikes_der_der= bikes_der.loc[bikes_der.hour>=21].copy()\n",
    "\n",
    "for day in bikes_der_der.workingday.unique():\n",
    "    print('Día ', day)\n",
    "    error_dia(bikes_der_der, day)\n",
    "    \n",
    "for hora in bikes_der_der.hour.unique():\n",
    "    print('Hora ',hora)\n",
    "    error_hora(bikes_der_der, hora)"
   ]
  },
  {
   "cell_type": "markdown",
   "metadata": {},
   "source": [
    "La siguiente división es entonces por hora, aquellas mayores a 23 y las menores a ella."
   ]
  },
  {
   "cell_type": "code",
   "execution_count": null,
   "metadata": {},
   "outputs": [],
   "source": [
    "bikes_der_der_izq= bikes_der_der.loc[bikes_der_der.hour<23].copy()\n",
    "bikes_der_der_der= bikes_der_der.loc[bikes_der_der.hour>=23].copy()"
   ]
  },
  {
   "cell_type": "code",
   "execution_count": null,
   "metadata": {},
   "outputs": [],
   "source": [
    "for day in bikes_der_der_izq.workingday.unique():\n",
    "    print('Día ', day)\n",
    "    error_dia(bikes_der_der_izq, day)\n",
    "    \n",
    "for hora in bikes_der_der_izq.hour.unique():\n",
    "    print('Hora ',hora)\n",
    "    error_hora(bikes_der_der_izq, hora)"
   ]
  },
  {
   "cell_type": "markdown",
   "metadata": {},
   "source": [
    "La división se realiza por hora y arbitrariamente se detiene el proceso en este nodo."
   ]
  },
  {
   "cell_type": "code",
   "execution_count": null,
   "metadata": {},
   "outputs": [],
   "source": [
    "bikes_der_der_izq_izq= bikes_der_der_izq.loc[bikes_der_der_izq.hour<22].copy()\n",
    "bikes_der_der_izq_der= bikes_der_der_izq.loc[bikes_der_der_izq.hour>=22].copy()"
   ]
  },
  {
   "cell_type": "markdown",
   "metadata": {},
   "source": [
    "Regresando entonces al nodo en el que la hora es mayor o igual a 23 se realiza la división por día pues no existe más opciones."
   ]
  },
  {
   "cell_type": "code",
   "execution_count": null,
   "metadata": {},
   "outputs": [],
   "source": [
    "for day in bikes_der_der_der.workingday.unique():\n",
    "    print('Día ', day)\n",
    "    error_dia(bikes_der_der_der, day)"
   ]
  },
  {
   "cell_type": "code",
   "execution_count": null,
   "metadata": {},
   "outputs": [],
   "source": [
    "bikes_der_der_der_izq = bikes_der_der_der.loc[bikes_der_der_der.workingday==0].copy()\n",
    "bikes_der_der_der_der = bikes_der_der_der.loc[bikes_der_der_der.workingday==1].copy()"
   ]
  },
  {
   "cell_type": "markdown",
   "metadata": {},
   "source": [
    "Con estos últimos nodos se finaliza el proceso de ramificación de todo el árbol."
   ]
  },
  {
   "cell_type": "markdown",
   "metadata": {},
   "source": [
    "# Exercise 7.5\n",
    "\n",
    "Train a Decision Tree using scikit-learn. Comment about the performance of the models.\n"
   ]
  },
  {
   "cell_type": "code",
   "execution_count": 10,
   "metadata": {},
   "outputs": [
    {
     "data": {
      "text/plain": [
       "105.19244713068338"
      ]
     },
     "execution_count": 10,
     "metadata": {},
     "output_type": "execute_result"
    }
   ],
   "source": [
    "from sklearn.tree import DecisionTreeRegressor\n",
    "treereg = DecisionTreeRegressor(random_state=1)\n",
    "treereg\n",
    "\n",
    "y =  bikes[['total']]\n",
    "X = bikes[['hour','workingday']]\n",
    "\n",
    "import numpy as np\n",
    "from sklearn.model_selection import cross_val_score\n",
    "scores = cross_val_score(treereg, X, y, cv=14, scoring='neg_mean_squared_error')\n",
    "np.mean(np.sqrt(-scores))\n"
   ]
  },
  {
   "cell_type": "code",
   "execution_count": 11,
   "metadata": {},
   "outputs": [],
   "source": [
    "from sklearn import tree\n",
    "import pydotplus\n",
    "import graphviz\n",
    "from IPython.display import Image\n",
    "from sklearn.tree import export_graphviz"
   ]
  },
  {
   "cell_type": "code",
   "execution_count": 12,
   "metadata": {},
   "outputs": [
    {
     "data": {
      "image/png": "[encoded data removed]",
      "text/plain": [
       "<IPython.core.display.Image object>"
      ]
     },
     "execution_count": 12,
     "metadata": {},
     "output_type": "execute_result"
    }
   ],
   "source": [
    "treereg = DecisionTreeRegressor(max_depth = 5 , random_state=1)\n",
    "treereg.fit(X,y)\n",
    "dot_data = tree.export_graphviz(treereg, out_file=None,feature_names =X.columns)\n",
    "graph = pydotplus.graph_from_dot_data(dot_data)\n",
    "Image(graph.create_png())\n"
   ]
  }
 ],
 "metadata": {
  "kernelspec": {
   "display_name": "Python 3",
   "language": "python",
   "name": "python3"
  },
  "language_info": {
   "codemirror_mode": {
    "name": "ipython",
    "version": 3
   },
   "file_extension": ".py",
   "mimetype": "text/x-python",
   "name": "python",
   "nbconvert_exporter": "python",
   "pygments_lexer": "ipython3",
   "version": "3.7.0"
  }
 },
 "nbformat": 4,
 "nbformat_minor": 1
}
